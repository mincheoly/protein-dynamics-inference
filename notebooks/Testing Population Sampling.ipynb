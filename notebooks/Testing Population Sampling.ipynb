{
 "cells": [
  {
   "cell_type": "code",
   "execution_count": 180,
   "metadata": {
    "collapsed": true
   },
   "outputs": [],
   "source": [
    "import numpy as np\n",
    "import matplotlib.pyplot as plt\n",
    "%matplotlib inline"
   ]
  },
  {
   "cell_type": "code",
   "execution_count": 195,
   "metadata": {
    "collapsed": false
   },
   "outputs": [
    {
     "name": "stdout",
     "output_type": "stream",
     "text": [
      "[103, 95, 112, 96, 122, 126, 109, 95, 94, 95, 94, 89, 100, 94, 97, 87, 95, 77, 101, 86, 91, 92, 116, 104, 88, 104, 103, 98, 105, 112, 102, 108, 109, 96, 113, 89, 92, 93, 103, 105, 79, 98, 102, 122, 91, 105, 109, 98, 103, 96, 109, 92, 93, 92, 111, 83, 75, 111, 116, 91, 114, 87, 86, 106, 88, 101, 106, 90, 109, 90, 101, 91, 105, 103, 108, 105, 110, 90, 101, 102, 97, 115, 108, 136, 86, 113, 93, 77, 109, 83, 120, 84, 98, 99, 98, 83, 101, 100, 105, 136]\n",
      "[ 0.00527886  0.01765587  0.01557854  0.01244514  0.00502695  0.01623818\n",
      "  0.01099988  0.01532479  0.01301767  0.01705203  0.01285904  0.00337329\n",
      "  0.00225222  0.00603165  0.01760063  0.01117855  0.01816151  0.00660035\n",
      "  0.00047729  0.01032644  0.01597167  0.01550705  0.00064505  0.0050782\n",
      "  0.0048306   0.0181921   0.01455538  0.01467363  0.0042308   0.01294343\n",
      "  0.0114227   0.00869267  0.00855914  0.01817025  0.01105641  0.00684906\n",
      "  0.00322319  0.0178171   0.01426107  0.01503753  0.00608419  0.01510439\n",
      "  0.01564085  0.00837619  0.00346595  0.01185122  0.01260089  0.01268372\n",
      "  0.00683093  0.00942635  0.00970503  0.01028168  0.01088098  0.00512141\n",
      "  0.01324907  0.00833446  0.00586415  0.00066893  0.01573584  0.00305239\n",
      "  0.00930096  0.0125159   0.00041359  0.00830623  0.01460102  0.01365317\n",
      "  0.00063938  0.0117276   0.01870437  0.00493818  0.00022947  0.00762172\n",
      "  0.01791739  0.02103459  0.00579386  0.01329416  0.0058239   0.00777137\n",
      "  0.0014287   0.00550189  0.0044068   0.01678317  0.00628112  0.01361302\n",
      "  0.00184039  0.01351791  0.01121071  0.01774207  0.00396155  0.00875613\n",
      "  0.00991124  0.00047091  0.01408966  0.00974125  0.01877317  0.00494567\n",
      "  0.00900733  0.00562811  0.01694327  0.00700455]\n"
     ]
    }
   ],
   "source": [
    "# Generate some data\n",
    "sigma = 10\n",
    "num = 10000\n",
    "np.random.seed(1)\n",
    "t = np.arange(0, num, 1)\n",
    "x = t + np.random.normal(0, sigma, num)\n",
    "y = -t + np.random.normal(0, sigma, num)\n",
    "z = t**2 + np.random.normal(0, sigma, num)\n",
    "X = np.array([x, y, z]).reshape((3, num))\n",
    "\n",
    "X = np.transpose(X) # X has columns x,y,z\n",
    "\n",
    "# Generate labels\n",
    "num_label = 100\n",
    "cluster_label = []\n",
    "for i in range(num_label):\n",
    "    if i == num_label - 1:\n",
    "        total = sum([len(arr) for arr in cluster_label])\n",
    "        cluster_label.append(np.repeat(i, num-total))\n",
    "    else:\n",
    "        repeat_length = abs(int(num/num_label + np.random.normal(0, num/num_label/10, 1)))\n",
    "        cluster_label.append(np.repeat(i, repeat_length))\n",
    "\n",
    "cluster_label = np.concatenate(cluster_label)\n",
    "\n",
    "# Define MSM variables\n",
    "mapping = {}\n",
    "for i in range(num_label):\n",
    "    mapping[i] = i\n",
    "    \n",
    "populations = np.random.uniform(0,1,num_label)\n",
    "populations = populations/sum(populations)\n",
    "print [len(np.where(cluster_label == state)[0]) for state in range(num_label)]\n",
    "print populations\n",
    "\n",
    "MFTP = np.zeros((num_label, num_label))\n",
    "for i in range(num_label):\n",
    "    for j in range(num_label):\n",
    "        if i != j:\n",
    "            MFTP[i][j] = ((i - j) + np.random.normal(0, 1, 1))**2"
   ]
  },
  {
   "cell_type": "code",
   "execution_count": 196,
   "metadata": {
    "collapsed": false
   },
   "outputs": [
    {
     "name": "stdout",
     "output_type": "stream",
     "text": [
      "(limiting state, max frame):  87 4339.96735318\n",
      "77.0 77\n"
     ]
    }
   ],
   "source": [
    "# Sample Population\n",
    "limit_list = []\n",
    "state_list = []\n",
    "for state in mapping.keys(): #goes through the original frame labels\n",
    "    num_frame = np.where(cluster_label == state)[0].shape[0]\n",
    "    prob = populations[mapping[state]]\n",
    "    limit = num_frame/prob\n",
    "    limit_list.append(limit)\n",
    "    state_list.append(state)\n",
    "\n",
    "limiting_state = state_list[np.argmin(limit_list)] #original frame label\n",
    "max_frame = limit_list[mapping[limiting_state]]\n",
    "print '(limiting state, max frame): ', limiting_state, max_frame\n",
    "print max_frame*populations[mapping[limiting_state]], len(np.where(cluster_label == limiting_state)[0])"
   ]
  },
  {
   "cell_type": "code",
   "execution_count": 197,
   "metadata": {
    "collapsed": false
   },
   "outputs": [
    {
     "name": "stdout",
     "output_type": "stream",
     "text": [
      "0 103 22\n",
      "1 95 76\n",
      "2 112 67\n",
      "3 96 54\n",
      "4 122 21\n",
      "5 126 70\n",
      "6 109 47\n",
      "7 95 66\n",
      "8 94 56\n",
      "9 95 74\n",
      "10 94 55\n",
      "11 89 14\n",
      "12 100 9\n",
      "13 94 26\n",
      "14 97 76\n",
      "15 87 48\n",
      "16 95 78\n",
      "17 77 28\n",
      "18 101 2\n",
      "19 86 44\n",
      "20 91 69\n",
      "21 92 67\n",
      "22 116 2\n",
      "23 104 22\n",
      "24 88 20\n",
      "25 104 78\n",
      "26 103 63\n",
      "27 98 63\n",
      "28 105 18\n",
      "29 112 56\n",
      "30 102 49\n",
      "31 108 37\n",
      "32 109 37\n",
      "33 96 78\n",
      "34 113 47\n",
      "35 89 29\n",
      "36 92 13\n",
      "37 93 77\n",
      "38 103 61\n",
      "39 105 65\n",
      "40 79 26\n",
      "41 98 65\n",
      "42 102 67\n",
      "43 122 36\n",
      "44 91 15\n",
      "45 105 51\n",
      "46 109 54\n",
      "47 98 55\n",
      "48 103 29\n",
      "49 96 40\n",
      "50 109 42\n",
      "51 92 44\n",
      "52 93 47\n",
      "53 92 22\n",
      "54 111 57\n",
      "55 83 36\n",
      "56 75 25\n",
      "57 111 2\n",
      "58 116 68\n",
      "59 91 13\n",
      "60 114 40\n",
      "61 87 54\n",
      "62 86 1\n",
      "63 106 36\n",
      "64 88 63\n",
      "65 101 59\n",
      "66 106 2\n",
      "67 90 50\n",
      "68 109 81\n",
      "69 90 21\n",
      "70 101 0\n",
      "71 91 33\n",
      "72 105 77\n",
      "73 103 91\n",
      "74 108 25\n",
      "75 105 57\n",
      "76 110 25\n",
      "77 90 33\n",
      "78 101 6\n",
      "79 102 23\n",
      "80 97 19\n",
      "81 115 72\n",
      "82 108 27\n",
      "83 136 59\n",
      "84 86 7\n",
      "85 113 58\n",
      "86 93 48\n",
      "87 77 77\n",
      "88 109 17\n",
      "89 83 38\n",
      "90 120 43\n",
      "91 84 2\n",
      "92 98 61\n",
      "93 99 42\n",
      "94 98 81\n",
      "95 83 21\n",
      "96 101 39\n",
      "97 100 24\n",
      "98 105 73\n",
      "99 136 30\n"
     ]
    }
   ],
   "source": [
    "# Sample based on population vector\n",
    "num_frame = max_frame\n",
    "\n",
    "if num_frame > max_frame:\n",
    "    print \"error: exceeding max number of frames \", max_frame\n",
    "\n",
    "num_state_frames = np.array(num_frame*populations).astype(int)\n",
    "\n",
    "frame_idx = np.empty((0,))\n",
    "for state in mapping.keys():\n",
    "    options = np.where(cluster_label == state)[0]\n",
    "    print state, len(options), num_state_frames[mapping[state]]\n",
    "    frame_idx = np.hstack((frame_idx,np.random.choice(options, num_state_frames[mapping[state]], replace=False)))\n",
    "frame_idx = frame_idx.astype(int)\n",
    "\n",
    "X_hat = X[frame_idx, :]"
   ]
  },
  {
   "cell_type": "code",
   "execution_count": 198,
   "metadata": {
    "collapsed": false
   },
   "outputs": [
    {
     "name": "stdout",
     "output_type": "stream",
     "text": [
      "label count:  [22, 76, 67, 54, 21, 70, 47, 66, 56, 74, 55, 14, 9, 26, 76, 48, 78, 28, 2, 44, 69, 67, 2, 22, 20, 78, 63, 63, 18, 56, 49, 37, 37, 78, 47, 29, 13, 77, 61, 65, 26, 65, 67, 36, 15, 51, 54, 55, 29, 40, 42, 44, 47, 22, 57, 36, 25, 2, 68, 13, 40, 54, 1, 36, 63, 59, 2, 50, 81, 21, 0, 33, 77, 91, 25, 57, 25, 33, 6, 23, 19, 72, 27, 59, 7, 58, 48, 77, 17, 38, 43, 2, 61, 42, 81, 21, 39, 24, 73, 30]\n",
      "estimated population vector:  [ 0.00512462  0.01770324  0.0156068   0.01257862  0.00489168  0.01630561\n",
      "  0.01094805  0.01537386  0.01304449  0.01723736  0.01281155  0.00326112\n",
      "  0.00209644  0.00605637  0.01770324  0.01118099  0.01816911  0.00652225\n",
      "  0.00046587  0.01024924  0.01607268  0.0156068   0.00046587  0.00512462\n",
      "  0.00465875  0.01816911  0.01467505  0.01467505  0.00419287  0.01304449\n",
      "  0.01141393  0.00861868  0.00861868  0.01816911  0.01094805  0.00675518\n",
      "  0.00302819  0.01793618  0.01420918  0.01514093  0.00605637  0.01514093\n",
      "  0.0156068   0.00838574  0.00349406  0.0118798   0.01257862  0.01281155\n",
      "  0.00675518  0.00931749  0.00978337  0.01024924  0.01094805  0.00512462\n",
      "  0.01327743  0.00838574  0.00582343  0.00046587  0.01583974  0.00302819\n",
      "  0.00931749  0.01257862  0.00023294  0.00838574  0.01467505  0.0137433\n",
      "  0.00046587  0.01164687  0.01886792  0.00489168  0.          0.00768693\n",
      "  0.01793618  0.0211973   0.00582343  0.01327743  0.00582343  0.00768693\n",
      "  0.00139762  0.00535756  0.00442581  0.01677149  0.00628931  0.0137433\n",
      "  0.00163056  0.01351037  0.01118099  0.01793618  0.00395993  0.00885162\n",
      "  0.01001631  0.00046587  0.01420918  0.00978337  0.01886792  0.00489168\n",
      "  0.00908456  0.0055905   0.01700443  0.00698812]\n",
      "population % error:  [  2.92174368e+00   2.68278207e-01   1.81414213e-01   1.07255361e+00\n",
      "   2.69071829e+00   4.15304823e-01   4.71175275e-01   3.20202732e-01\n",
      "   2.06026076e-01   1.08687985e+00   3.69268476e-01   3.32517471e+00\n",
      "   6.91677892e+00   4.09815818e-01   5.82964150e-01   2.18400666e-02\n",
      "   4.18338651e-02   1.18339131e+00   2.39219444e+00   7.47531949e-01\n",
      "   6.32428281e-01   6.43266490e-01   2.77768160e+01   9.14085993e-01\n",
      "   3.55751022e+00   1.26333677e-01   8.22200034e-01   9.66217021e-03\n",
      "   8.96562968e-01   7.80756702e-01   7.67580000e-02   8.51130515e-01\n",
      "   6.95682227e-01   6.25160618e-03   9.79994672e-01   1.37059350e+00\n",
      "   6.04992578e+00   6.68302943e-01   3.63892701e-01   6.87597595e-01\n",
      "   4.57162522e-01   2.41897520e-01   2.17683354e-01   1.14082869e-01\n",
      "   8.11018855e-01   2.41194548e-01   1.76793201e-01   1.00781919e+00\n",
      "   1.10895053e+00   1.15483793e+00   8.07202734e-01   3.15497047e-01\n",
      "   6.16426480e-01   6.27705421e-02   2.14063177e-01   6.15366998e-01\n",
      "   6.94297353e-01   3.03554642e+01   6.60250511e-01   7.92955274e-01\n",
      "   1.77777545e-01   5.01125552e-01   4.36792654e+01   9.57279991e-01\n",
      "   5.07002334e-01   6.60128084e-01   2.71360583e+01   6.88427518e-01\n",
      "   8.74428755e-01   9.41637976e-01   1.00000000e+02   8.55548156e-01\n",
      "   1.04820024e-01   7.73515103e-01   5.10411376e-01   1.25834595e-01\n",
      "   7.94047273e-03   1.08650589e+00   2.17516620e+00   2.62329864e+00\n",
      "   4.31377152e-01   6.96078587e-02   1.30350776e-01   9.57011634e-01\n",
      "   1.14015093e+01   5.58097682e-02   2.65081102e-01   1.09404503e+00\n",
      "   4.07629284e-02   1.09054640e+00   1.06010830e+00   1.06953493e+00\n",
      "   8.48264481e-01   4.32420674e-01   5.04727129e-01   1.09150497e+00\n",
      "   8.57336763e-01   6.68367956e-01   3.60971930e-01   2.34512049e-01]\n"
     ]
    }
   ],
   "source": [
    "# check if index is correct\n",
    "\n",
    "cluster_label_sample = []\n",
    "for i, point in enumerate(X_hat):\n",
    "    idx = np.where(X == point)[0][0]\n",
    "    if idx != frame_idx[i]: # Check index matches up\n",
    "        print \"FAKE\"\n",
    "    cluster_label_sample.append(cluster_label[idx])\n",
    "cluster_label_sample = np.array(cluster_label_sample)\n",
    "label_count = [len(np.where(cluster_label_sample == state)[0]) for state in range(num_label)]\n",
    "populations_hat = np.array(label_count).astype(float)/sum(label_count)\n",
    "print 'label count: ', label_count\n",
    "print 'estimated population vector: ', populations_hat\n",
    "print 'population % error: ', abs((populations - populations_hat)*100/populations)"
   ]
  },
  {
   "cell_type": "code",
   "execution_count": 221,
   "metadata": {
    "collapsed": false
   },
   "outputs": [
    {
     "data": {
      "text/plain": [
       "<matplotlib.text.Text at 0xeebfba8>"
      ]
     },
     "execution_count": 221,
     "metadata": {},
     "output_type": "execute_result"
    },
    {
     "data": {
      "image/png": "[encoded data removed]",
      "text/plain": [
       "<matplotlib.figure.Figure at 0xc9bf630>"
      ]
     },
     "metadata": {},
     "output_type": "display_data"
    }
   ],
   "source": [
    "# Plot RMSD vs MFTP\n",
    "cluster_assignments = cluster_label\n",
    "chosen_indices = frame_idx\n",
    "fs_mfpt_matrix = MFTP\n",
    "\n",
    "num_frames = X_hat.shape[0]\n",
    "num_points = 80\n",
    "\n",
    "distances = []\n",
    "mfpt_times = []\n",
    "for p in range(num_points):\n",
    "    frame_pair = np.random.randint(low=0, high=num_frames-1, size=2) # frame number in sim_data\n",
    "    true_frame_pair = (int(chosen_indices[frame_pair[0]]), int(chosen_indices[frame_pair[1]])) # corresponding original frame numbers\n",
    "    msm_frame_pair = (mapping[cluster_assignments[true_frame_pair[0]]], mapping[cluster_assignments[true_frame_pair[1]]])\n",
    "    if msm_frame_pair[0] != msm_frame_pair[1] and fs_mfpt_matrix[msm_frame_pair[0]][msm_frame_pair[1]] > 0:\n",
    "        distances.append(np.linalg.norm(X[frame_pair[0],:] - X[frame_pair[1], :]))\n",
    "        mfpt_times.append(fs_mfpt_matrix[msm_frame_pair[0]][msm_frame_pair[1]])\n",
    "plt.scatter(np.array(distances), np.array(mfpt_times))\n",
    "plt.xlabel('Distance in XYZ space')\n",
    "plt.ylabel('MFPT')"
   ]
  }
 ],
 "metadata": {
  "kernelspec": {
   "display_name": "Python 2",
   "language": "python",
   "name": "python2"
  },
  "language_info": {
   "codemirror_mode": {
    "name": "ipython",
    "version": 2
   },
   "file_extension": ".py",
   "mimetype": "text/x-python",
   "name": "python",
   "nbconvert_exporter": "python",
   "pygments_lexer": "ipython2",
   "version": "2.7.13"
  }
 },
 "nbformat": 4,
 "nbformat_minor": 2
}
