{
 "cells": [
  {
   "cell_type": "code",
   "execution_count": 2,
   "metadata": {
    "collapsed": true
   },
   "outputs": [],
   "source": [
    "import numpy as np"
   ]
  },
  {
   "cell_type": "code",
   "execution_count": 5,
   "metadata": {
    "collapsed": false
   },
   "outputs": [],
   "source": [
    "# Toy Example\n",
    "graph = {}\n",
    "graph[0] = [(4, 0.6), (3, 0.4)]\n",
    "graph[1] = [(2, 0.3), (3, 0.7)]\n",
    "graph[2] = [(1, 0.1), (0, 0.9)]\n",
    "graph[3] = [(4, 0.4), (0, 0.6)]\n",
    "graph[4] = [(1, 0.1), (3, 0.9)]\n",
    "\n",
    "labels = np.array([0, 0, 0, 2, 1])"
   ]
  },
  {
   "cell_type": "code",
   "execution_count": 19,
   "metadata": {
    "collapsed": false
   },
   "outputs": [
    {
     "name": "stdout",
     "output_type": "stream",
     "text": [
      "[[ 0.43333333  0.2         0.36666667]\n",
      " [ 0.1         0.          0.9       ]\n",
      " [ 0.6         0.4         0.        ]]\n",
      "[[ 3.  1.  2.]\n",
      " [ 1.  0.  1.]\n",
      " [ 1.  1.  0.]]\n"
     ]
    }
   ],
   "source": [
    "# Construct state transition matrix\n",
    "num_states = 3\n",
    "\n",
    "transition_matrix = np.zeros((num_states, num_states))\n",
    "counts = np.zeros(num_states)\n",
    "for src_frame, edge in graph.items():\n",
    "    src_cluster = labels[src_frame]\n",
    "    counts[src_cluster] = counts[src_cluster] + 1\n",
    "    for sink_frame, prob in edge:\n",
    "        sink_cluster = labels[sink_frame]\n",
    "        transition_matrix[src_cluster][sink_cluster] = transition_matrix[src_cluster][sink_cluster] + prob\n",
    "    \n",
    "for i in range(num_states):\n",
    "    transition_matrix[i, :] = transition_matrix[i, :]/counts[i]\n",
    "print(transition_matrix)\n",
    "print(count_matrix)\n",
    "\n",
    "        "
   ]
  },
  {
   "cell_type": "code",
   "execution_count": 17,
   "metadata": {
    "collapsed": false
   },
   "outputs": [
    {
     "data": {
      "text/plain": [
       "array([ 0.,  0.,  0.])"
      ]
     },
     "execution_count": 17,
     "metadata": {},
     "output_type": "execute_result"
    }
   ],
   "source": [
    "np.zeros(3)"
   ]
  },
  {
   "cell_type": "code",
   "execution_count": null,
   "metadata": {
    "collapsed": true
   },
   "outputs": [],
   "source": [
    "# Open Dictionary\n",
    "import json\n",
    "with open(foldername + dict_filename, 'r') as fp:\n",
    "    raw_dict = json.load(fp)\n",
    "\n",
    "# Read through the dictionary and fix all the tuples\n",
    "edges  = {}\n",
    "for key,value in raw_dict.items(): # not iteritems() since it's python 3.x\n",
    "    edges[int(key)] = [(int(tup[0]), float(tup[1])) for tup in value]"
   ]
  }
 ],
 "metadata": {
  "kernelspec": {
   "display_name": "Python 2",
   "language": "python",
   "name": "python2"
  },
  "language_info": {
   "codemirror_mode": {
    "name": "ipython",
    "version": 2
   },
   "file_extension": ".py",
   "mimetype": "text/x-python",
   "name": "python",
   "nbconvert_exporter": "python",
   "pygments_lexer": "ipython2",
   "version": "2.7.12"
  }
 },
 "nbformat": 4,
 "nbformat_minor": 0
}
