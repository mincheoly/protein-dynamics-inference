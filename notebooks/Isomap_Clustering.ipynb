{
 "cells": [
  {
   "cell_type": "code",
   "execution_count": 1,
   "metadata": {
    "collapsed": false
   },
   "outputs": [],
   "source": [
    "#get data\n",
    "import numpy as np\n",
    "from sklearn import manifold\n",
    "from msmbuilder.example_datasets import FsPeptide\n",
    "fs_peptide = FsPeptide()\n",
    "fs_peptide.cache()"
   ]
  },
  {
   "cell_type": "code",
   "execution_count": 4,
   "metadata": {
    "collapsed": true
   },
   "outputs": [],
   "source": [
    "import tempfile\n",
    "import os\n",
    "import time\n",
    "os.chdir(tempfile.mkdtemp())"
   ]
  },
  {
   "cell_type": "code",
   "execution_count": 3,
   "metadata": {
    "collapsed": false
   },
   "outputs": [
    {
     "name": "stderr",
     "output_type": "stream",
     "text": [
      "C:\\Users\\MinCheol\\Anaconda2\\lib\\site-packages\\mdtraj\\formats\\pdb\\pdbfile.py:196: UserWarning: Unlikely unit cell vectors detected in PDB file likely resulting from a dummy CRYST1 record. Discarding unit cell vectors.\n",
      "  warnings.warn('Unlikely unit cell vectors detected in PDB file likely '\n"
     ]
    },
    {
     "name": "stdout",
     "output_type": "stream",
     "text": [
      "28 trajectories\n",
      "with length set([500.0]) ns\n"
     ]
    }
   ],
   "source": [
    "from msmbuilder.dataset import dataset\n",
    "xyz = dataset(fs_peptide.data_dir + \"/*.xtc\",\n",
    "              topology=fs_peptide.data_dir + '/fs-peptide.pdb',\n",
    "              stride=10)\n",
    "print(\"{} trajectories\".format(len(xyz)))\n",
    "# msmbuilder does not keep track of units! You must keep track of your\n",
    "# data's timestep\n",
    "to_ns = 0.5\n",
    "print(\"with length {} ns\".format(set(len(x)*to_ns for x in xyz)))"
   ]
  },
  {
   "cell_type": "code",
   "execution_count": 9,
   "metadata": {
    "collapsed": false
   },
   "outputs": [
    {
     "name": "stdout",
     "output_type": "stream",
     "text": [
      "17.3070001602\n"
     ]
    }
   ],
   "source": [
    "# combine all trajectories into a trajectory \"bag\"\n",
    "import mdtraj as md\n",
    "start = time.time()\n",
    "frames_bag = []\n",
    "for idx, trajectories in enumerate(xyz):\n",
    "    if idx == 0:\n",
    "        frames_bag = trajectories\n",
    "    if idx != 0:\n",
    "        frames_bag = frames_bag.join(trajectories)\n",
    "temp = xyz[0]\n",
    "reference_frame = temp.slice(0, copy=True)\n",
    "frames_bag.superpose(reference_frame)\n",
    "# Format data matrix\n",
    "num_frames, num_atoms, num_axis = frames_bag.xyz.shape\n",
    "X1 = np.reshape(frames_bag.xyz, (num_frames, num_atoms*num_axis))\n",
    "print(time.time() - start)"
   ]
  },
  {
   "cell_type": "code",
   "execution_count": 24,
   "metadata": {
    "collapsed": false
   },
   "outputs": [
    {
     "name": "stdout",
     "output_type": "stream",
     "text": [
      "16.3029999733\n"
     ]
    }
   ],
   "source": [
    "start = time.time();\n",
    "temp = xyz[0]\n",
    "_, num_atoms, num_axis = temp.xyz.shape\n",
    "reference_frame = temp.slice(0, copy=True)\n",
    "num_features = num_atoms*num_axis;\n",
    "pre_X = [np.reshape(traj.xyz, (traj.superpose(reference_frame).xyz.shape[0],num_features)) for traj in xyz]\n",
    "X2 = np.concatenate(pre_X)\n",
    "print(time.time() - start)"
   ]
  },
  {
   "cell_type": "code",
   "execution_count": 26,
   "metadata": {
    "collapsed": false
   },
   "outputs": [
    {
     "data": {
      "text/plain": [
       "3L"
      ]
     },
     "execution_count": 26,
     "metadata": {},
     "output_type": "execute_result"
    }
   ],
   "source": [
    "num_axis"
   ]
  },
  {
   "cell_type": "code",
   "execution_count": 19,
   "metadata": {
    "collapsed": false
   },
   "outputs": [],
   "source": [
    "#a pply dimensionality reduction\n",
    "n_neighbors = 40\n",
    "n_components = 30\n",
    "X_iso = manifold.Isomap(n_neighbors, n_components).fit_transform(X)"
   ]
  },
  {
   "cell_type": "code",
   "execution_count": 14,
   "metadata": {
    "collapsed": false
   },
   "outputs": [
    {
     "ename": "NameError",
     "evalue": "name 'X_iso' is not defined",
     "output_type": "error",
     "traceback": [
      "\u001b[1;31m---------------------------------------------------------------------------\u001b[0m",
      "\u001b[1;31mNameError\u001b[0m                                 Traceback (most recent call last)",
      "\u001b[1;32m<ipython-input-14-a502f0e863a4>\u001b[0m in \u001b[0;36m<module>\u001b[1;34m()\u001b[0m\n\u001b[0;32m      2\u001b[0m \u001b[0mnum_clusters\u001b[0m \u001b[1;33m=\u001b[0m \u001b[1;36m97\u001b[0m\u001b[1;33m\u001b[0m\u001b[0m\n\u001b[0;32m      3\u001b[0m \u001b[1;32mfrom\u001b[0m \u001b[0msklearn\u001b[0m\u001b[1;33m.\u001b[0m\u001b[0mcluster\u001b[0m \u001b[1;32mimport\u001b[0m \u001b[0mKMeans\u001b[0m\u001b[1;33m\u001b[0m\u001b[0m\n\u001b[1;32m----> 4\u001b[1;33m \u001b[0mkmeans\u001b[0m \u001b[1;33m=\u001b[0m \u001b[0mKMeans\u001b[0m\u001b[1;33m(\u001b[0m\u001b[0mn_clusters\u001b[0m\u001b[1;33m=\u001b[0m\u001b[0mnum_clusters\u001b[0m\u001b[1;33m)\u001b[0m\u001b[1;33m.\u001b[0m\u001b[0mfit\u001b[0m\u001b[1;33m(\u001b[0m\u001b[0mX_iso\u001b[0m\u001b[1;33m)\u001b[0m\u001b[1;33m\u001b[0m\u001b[0m\n\u001b[0m",
      "\u001b[1;31mNameError\u001b[0m: name 'X_iso' is not defined"
     ]
    }
   ],
   "source": [
    "# use K means to cluster and save data\n",
    "num_clusters = 97\n",
    "from sklearn.cluster import KMeans\n",
    "kmeans = KMeans(n_clusters=num_clusters).fit(X_iso)"
   ]
  },
  {
   "cell_type": "code",
   "execution_count": 52,
   "metadata": {
    "collapsed": false
   },
   "outputs": [],
   "source": [
    "# compute XYZ coordinates of cluster centers\n",
    "cluster_centers = np.empty((num_atoms*num_axis, num_clusters), dtype=float)\n",
    "for idx in range(num_clusters):\n",
    "    indices = (kmeans.labels_ == idx)\n",
    "    cluster_centers[:, idx] = X[indices,:].mean(axis=0)"
   ]
  },
  {
   "cell_type": "code",
   "execution_count": 66,
   "metadata": {
    "collapsed": false
   },
   "outputs": [],
   "source": [
    "# save clusters\n",
    "cluster_centers.dump('C:\\\\Users\\\\minch_000\\\\Documents\\\\GitHub\\\\Protein_Dynamics_TJ\\\\MSM_Builder_Test\\\\temp.dat')"
   ]
  },
  {
   "cell_type": "code",
   "execution_count": 30,
   "metadata": {
    "collapsed": false
   },
   "outputs": [],
   "source": [
    "# reverse engineer clusters\n",
    "import numpy as np\n",
    "from sklearn.cluster import KMeans\n",
    "isomap_clusters = np.load('C:\\\\Users\\\\minch_000\\\\Documents\\\\GitHub\\\\Protein_Dynamics_TJ\\\\MSM_Builder_Test\\\\isomap_clusters.dat')\n",
    "kmeans_temp = KMeans(n_clusters=num_clusters).fit(isomap_clusters.transpose())\n",
    "isomap_clusters = isomap_clusters[:, kmeans_temp.labels_]\n",
    "assignments = kmeans_temp.predict(X)"
   ]
  },
  {
   "cell_type": "code",
   "execution_count": 51,
   "metadata": {
    "collapsed": false
   },
   "outputs": [],
   "source": [
    "# match isomap clusters to msm clusters\n",
    "pairings = [0 for i in range(97)]\n",
    "for idx in range(97):\n",
    "    isomap_center = isomap_clusters[:, idx]\n",
    "    distances = np.square(np.tile(isomap_center, (100, 1)).transpose() - msm_cluster_centers).sum(axis=0)\n",
    "    pairings[idx] = np.argmin(distances)"
   ]
  },
  {
   "cell_type": "code",
   "execution_count": 71,
   "metadata": {
    "collapsed": false
   },
   "outputs": [
    {
     "data": {
      "text/plain": [
       "array([74, 74, 74, 98, 98, 74, 84, 74, 98, 74, 74, 74, 84, 84, 84, 69, 74,\n",
       "       74, 74, 84, 74, 84, 74, 84, 74, 84, 74, 74, 74, 84, 84, 74, 74, 84,\n",
       "       84, 84, 84, 84, 84, 84, 84, 84, 84, 84, 84, 84, 84, 74, 84, 84], dtype=int64)"
      ]
     },
     "execution_count": 71,
     "metadata": {},
     "output_type": "execute_result"
    }
   ],
   "source": [
    "new_assignments = [0 for x in range(len(assignments))]\n",
    "for idx in range(len(assignments)):\n",
    "                   new_assignments[idx] = pairings[assignments[idx]]\n",
    "np.array(new_assignments[0:50])"
   ]
  },
  {
   "cell_type": "code",
   "execution_count": 72,
   "metadata": {
    "collapsed": false
   },
   "outputs": [
    {
     "data": {
      "text/plain": [
       "array([73, 73, 73, 23, 73, 23, 73, 23, 73, 73, 73, 73, 73, 73, 73, 73, 73,\n",
       "       73, 73, 23, 73, 23, 73, 23, 73, 73, 73, 73, 73, 73, 73, 73, 73, 73,\n",
       "       73, 23, 23, 23, 23, 73, 23, 23, 73, 23, 73, 23, 23, 73, 73, 73])"
      ]
     },
     "execution_count": 72,
     "metadata": {},
     "output_type": "execute_result"
    }
   ],
   "source": [
    "msm_cluster_indices[0:50]"
   ]
  },
  {
   "cell_type": "code",
   "execution_count": 32,
   "metadata": {
    "collapsed": false
   },
   "outputs": [
    {
     "name": "stderr",
     "output_type": "stream",
     "text": [
      "C:\\Users\\minch_000\\Anaconda2\\lib\\site-packages\\mdtraj\\formats\\pdb\\pdbfile.py:196: UserWarning: Unlikely unit cell vectors detected in PDB file likely resulting from a dummy CRYST1 record. Discarding unit cell vectors.\n",
      "  warnings.warn('Unlikely unit cell vectors detected in PDB file likely '\n"
     ]
    },
    {
     "name": "stdout",
     "output_type": "stream",
     "text": [
      "28 trajectories\n",
      "with length set([500.0]) ns\n",
      "(1000L, 4L)\n",
      "(1000L,)\n"
     ]
    }
   ],
   "source": [
    "################################################################################\n",
    "# Authors: Min Cheol Kim, Christian Choe\n",
    "\n",
    "# Description: Performs ISOMAP on msm builder tutorial trajectories,\n",
    "# clusters in reduced dimension, and saves various clustering/dimentionality\n",
    "# reduction products.\n",
    "\n",
    "################################################################################\n",
    "\n",
    "# get data\n",
    "from msmbuilder.example_datasets import FsPeptide\n",
    "fs_peptide = FsPeptide()\n",
    "fs_peptide.cache()\n",
    "\n",
    "import tempfile\n",
    "import os\n",
    "os.chdir(tempfile.mkdtemp())\n",
    "\n",
    "from msmbuilder.dataset import dataset\n",
    "xyz = dataset(fs_peptide.data_dir + \"/*.xtc\",\n",
    "              topology=fs_peptide.data_dir + '/fs-peptide.pdb',\n",
    "              stride=10)\n",
    "print(\"{} trajectories\".format(len(xyz)))\n",
    "# msmbuilder does not keep track of units! You must keep track of your\n",
    "# data's timestep\n",
    "to_ns = 0.5\n",
    "print(\"with length {} ns\".format(set(len(x)*to_ns for x in xyz)))\n",
    "\n",
    "#featurization\n",
    "from msmbuilder.featurizer import DihedralFeaturizer\n",
    "featurizer = DihedralFeaturizer(types=['phi', 'psi'])\n",
    "diheds = xyz.fit_transform_with(featurizer, 'diheds/', fmt='dir-npy')\n",
    "\n",
    "#tICA\n",
    "from msmbuilder.decomposition import tICA\n",
    "tica_model = tICA(lag_time=2, n_components=4)\n",
    "# fit and transform can be done in seperate steps:\n",
    "tica_model = diheds.fit_with(tica_model)\n",
    "tica_trajs = diheds.transform_with(tica_model, 'ticas/', fmt='dir-npy')\n",
    "\n",
    "#histogram\n",
    "\n",
    "import numpy as np\n",
    "txx = np.concatenate(tica_trajs)\n",
    "\n",
    "# clustering\n",
    "from msmbuilder.cluster import MiniBatchKMeans\n",
    "clusterer = MiniBatchKMeans(n_clusters=100)\n",
    "clustered_trajs = tica_trajs.fit_transform_with(\n",
    "    clusterer, 'kmeans/', fmt='dir-npy'\n",
    ")\n",
    "\n",
    "print(tica_trajs[0].shape)\n",
    "print(clustered_trajs[0].shape)\n",
    "\n",
    "# combine all trajectories into a trajectory \"bag\"\n",
    "frames_bag = []\n",
    "for idx, trajectories in enumerate(xyz):\n",
    "    if idx == 0:\n",
    "        frames_bag = trajectories\n",
    "    if idx != 0:\n",
    "        frames_bag = frames_bag.join(trajectories)\n",
    "num_frames, num_atoms, num_axis = frames_bag.xyz.shape\n",
    "\n",
    "# Concatenate the trajectories in cluster indices\n",
    "msm_cluster_indices = np.concatenate(clustered_trajs)\n",
    "\n",
    "# compute XYZ coordinates of cluster centers\n",
    "num_clusters=100\n",
    "msm_cluster_centers = np.empty((num_atoms*num_axis, num_clusters), dtype=float)\n",
    "X = np.reshape(frames_bag.xyz, (num_frames, num_atoms*num_axis))\n",
    "for idx in range(num_clusters):\n",
    "    indices = (msm_cluster_indices == idx)\n",
    "    msm_cluster_centers[:, idx] = X[indices,:].mean(axis=0)"
   ]
  }
 ],
 "metadata": {
  "anaconda-cloud": {},
  "kernelspec": {
   "display_name": "Python 2",
   "language": "python",
   "name": "python2"
  },
  "language_info": {
   "codemirror_mode": {
    "name": "ipython",
    "version": 2
   },
   "file_extension": ".py",
   "mimetype": "text/x-python",
   "name": "python",
   "nbconvert_exporter": "python",
   "pygments_lexer": "ipython2",
   "version": "2.7.12"
  }
 },
 "nbformat": 4,
 "nbformat_minor": 2
}
