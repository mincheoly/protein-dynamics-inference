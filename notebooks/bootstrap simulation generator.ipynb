{
 "cells": [
  {
   "cell_type": "code",
   "execution_count": 1,
   "metadata": {
    "collapsed": false
   },
   "outputs": [
    {
     "name": "stderr",
     "output_type": "stream",
     "text": [
      "C:\\Anaconda2\\lib\\site-packages\\mdtraj\\formats\\pdb\\pdbfile.py:196: UserWarning: Unlikely unit cell vectors detected in PDB file likely resulting from a dummy CRYST1 record. Discarding unit cell vectors.\n",
      "  warnings.warn('Unlikely unit cell vectors detected in PDB file likely '\n"
     ]
    }
   ],
   "source": [
    "# Read trajectory data\n",
    "\n",
    "import numpy as np\n",
    "from msmbuilder.example_datasets import FsPeptide\n",
    "from msmbuilder.dataset import dataset\n",
    "import mdtraj as md\n",
    "\n",
    "fs_peptide = FsPeptide()\n",
    "fs_peptide.cache()\n",
    "xyz = dataset(fs_peptide.data_dir + \"/*.xtc\",\n",
    "              topology=fs_peptide.data_dir + '/fs-peptide.pdb',\n",
    "              stride=10)\n",
    "\n",
    "temp = xyz[0]\n",
    "_, num_atoms, num_axis = temp.xyz.shape\n",
    "reference_frame = temp.slice(0, copy=True)\n",
    "num_features = num_atoms*num_axis;\n",
    "pre_X = [np.reshape(traj.xyz, (traj.superpose(reference_frame).xyz.shape[0],num_features)) for traj in xyz]\n",
    "X = np.concatenate(pre_X)\n",
    "num_frames = X.shape[0]"
   ]
  },
  {
   "cell_type": "code",
   "execution_count": null,
   "metadata": {
    "collapsed": true
   },
   "outputs": [],
   "source": [
    "# Load isomap data\n",
    "\n",
    "# Load isomap cluster labels\n",
    "# Ensure that the smallest cluster label is 0!\n",
    "iso_label = np.load('./sherlock_data/isomap_clustering_labels_30_40_97.dat')\n",
    "\n",
    "# Load isomap coordinate\n",
    "iso_coord = np.load('./sherlock_data/isomap_coordinates_30_40_97.dat')\n",
    "\n",
    "# Load isomap cluster centroids\n",
    "iso_cent = np.load('./sherlock_data/isomap_clusters_RD_30_40_97.dat')\n",
    "\n",
    "# Load raw X,Y,Z"
   ]
  },
  {
   "cell_type": "code",
   "execution_count": null,
   "metadata": {
    "collapsed": false
   },
   "outputs": [],
   "source": [
    "# create cluster adjacency matrix\n",
    "\n",
    "cluster_num = len(np.unique(iso_label))\n",
    "n = 4\n",
    "cluster_adj = np.zeros((cluster_num, cluster_num))\n",
    "\n",
    "# create full adjacency matrix\n",
    "for i in range(0,cluster_num-1):\n",
    "    for j in range(i+1, cluster_num):\n",
    "        cluster_adj[i,j] = np.linalg.norm(iso_cent[i]-iso_cent[j])\n",
    "\n",
    "cluster_adj = cluster_adj + np.transpose(cluster_adj)\n",
    "# prunce adjacency matrix\n",
    "for i in range(0, cluster_num):\n",
    "    ind = np.argpartition(cluster_adj[i], -cluster_num+n+1)[-cluster_num+n+1:]\n",
    "    for j in ind:\n",
    "        cluster_adj[i,j] = 0\n",
    "\n"
   ]
  },
  {
   "cell_type": "code",
   "execution_count": null,
   "metadata": {
    "collapsed": false
   },
   "outputs": [],
   "source": [
    "#visualize how the clusters are connected\n",
    "\n",
    "def show_graph(adjacency_matrix):\n",
    "    # given an adjacency matrix use networkx and matlpotlib to plot the graph\n",
    "    import networkx as nx\n",
    "    import matplotlib.pyplot as plt\n",
    "\n",
    "    rows, cols = np.where(adjacency_matrix > 0)\n",
    "    edges = zip(rows.tolist(), cols.tolist())\n",
    "    gr = nx.Graph()\n",
    "    gr.add_edges_from(edges)\n",
    "    # nx.draw(gr) # edited to include labels\n",
    "    nx.draw_networkx(gr)\n",
    "    # now if you decide you don't want labels because your graph\n",
    "    # is too busy just do: nx.draw_networkx(G,with_labels=False)\n",
    "    plt.show()\n",
    "\n",
    "show_graph(cluster_adj)"
   ]
  },
  {
   "cell_type": "code",
   "execution_count": null,
   "metadata": {
    "collapsed": false
   },
   "outputs": [],
   "source": [
    "# create a dictionary that describes the connections of all the frames\n",
    "n = 2\n",
    "edges = {}\n",
    "for i in range(0,cluster_num):\n",
    "    print i\n",
    "    cluster_frame = np.where(iso_label == i)[0] #get index of all frames in cluster i\n",
    "    \n",
    "    neighbor_cluster = np.where(cluster_adj[i])[0] #find connected clusters to cluster i\n",
    "    neighbor_frame = np.where([x in neighbor_cluster for x in iso_label])[0] #get infex of all frames in neighboring clusters\n",
    "\n",
    "    all_frame = np.concatenate((cluster_frame, neighbor_frame))\n",
    "    length = len(all_frame)\n",
    "    \n",
    "    # calculate distances to all neighbors from each frame in cluster i\n",
    "    for i, frame_i in enumerate(cluster_frame):\n",
    "        temp = np.zeros((length))\n",
    "        for j, frame_j in enumerate(all_frame): #can make this more efficient\n",
    "            temp[j] = np.linalg.norm(iso_coord[frame_i]-iso_coord[frame_j]) #edjes are based on isomap distances\n",
    "        temp[i] = np.nan\n",
    "        # find the n nearest frames to frame_i\n",
    "        n_frame = temp.shape[0]-1\n",
    "        nearest = np.argpartition(temp, n_frame)[:n_frame]\n",
    "        prob = 1/(temp[nearest]**2)\n",
    "        prob = prob/sum(prob)\n",
    "        print sum(prob), min(prob), max(prob)\n",
    "        #prob = np.char.mod('%.6f', prob)\n",
    "        #neighbor = np.char.mod('%d', all_frame[nearest])\n",
    "        neighbor = all_frame[nearest]\n",
    "        edges[str(frame_i)] = zip(neighbor, prob)\n",
    "        print max(temp[nearest]), min(temp[nearest]), len(temp[nearest])\n",
    "        break\n",
    "    break\n",
    "\n",
    "print edges['14634']\n",
    "   "
   ]
  },
  {
   "cell_type": "code",
   "execution_count": null,
   "metadata": {
    "collapsed": false
   },
   "outputs": [],
   "source": [
    "# save the dictionary\n",
    "temp = {}\n",
    "for a, x in edges.iteritems():\n",
    "    temp[str(a)] = [(str(f), x)for f,x in x]\n",
    "\n",
    "\n",
    "import json\n",
    "with open('./dict/test.json', 'w') as fp:\n",
    "    json.dump(temp, fp)\n",
    "    "
   ]
  },
  {
   "cell_type": "code",
   "execution_count": 2,
   "metadata": {
    "collapsed": false
   },
   "outputs": [],
   "source": [
    "import json\n",
    "# open the dictionary\n",
    "with open('./dict/dict_fspeptide_20_20_iso_30_40_97.json', 'r') as fp:\n",
    "    test = json.load(fp)\n",
    "\n",
    "edges  = {}\n",
    "for a,x in test.iteritems():\n",
    "    edges[int(a)] = [(int(tup[0]), float(tup[1])) for tup in x]\n"
   ]
  },
  {
   "cell_type": "code",
   "execution_count": 3,
   "metadata": {
    "collapsed": true
   },
   "outputs": [],
   "source": [
    "# delete all trajectories\n",
    "\n",
    "import sys\n",
    "import os\n",
    "from os import listdir\n",
    "from os.path import join\n",
    "\n",
    "dir = './trajectories/'\n",
    "test=os.listdir(dir)\n",
    "\n",
    "for item in test:\n",
    "    if item.endswith('.xtc'):\n",
    "        os.remove(join(dir, item))\n",
    "\n",
    "def delete_all_traj():\n",
    "    dir = './trajectories/'\n",
    "    test=os.listdir(dir)\n",
    "\n",
    "    for item in test:\n",
    "        if item.endswith('.xtc'):\n",
    "            os.remove(join(dir, item))"
   ]
  },
  {
   "cell_type": "code",
   "execution_count": 4,
   "metadata": {
    "collapsed": false,
    "scrolled": true
   },
   "outputs": [],
   "source": [
    "# generate frame orders\n",
    "def random_frame(neighbors):\n",
    "    prob = []\n",
    "    choice = []\n",
    "    for (frame, dist) in neighbors:\n",
    "        prob.append(dist)\n",
    "        choice.append(frame)\n",
    "    return np.random.choice(choice, p = prob)\n",
    "\n",
    "def generate_md_traj(graph_dict, X, num_traj, length = -1):\n",
    "    seed = np.linspace(0, len(graph_dict)-1, num_traj)\n",
    "    if length == -1:\n",
    "            length = 1000\n",
    "    for k in range(0,num_traj):\n",
    "        traj = [int(seed[k])]\n",
    "        for i in range(0, length-1):\n",
    "            neighbor = graph_dict[traj[i]]\n",
    "            traj.append(random_frame(neighbor))\n",
    "\n",
    "        our_traj = np.reshape(X[traj,:], (len(traj), len(X[0])/3, 3))\n",
    "        md_traj = md.Trajectory(our_traj, md.load(fs_peptide.data_dir + '/fs-peptide.pdb').topology)\n",
    "        md_traj.save_xtc('./trajectories/' + str(k+1)+'.xtc')\n",
    "\n",
    "import warnings\n",
    "warnings.filterwarnings('ignore')\n",
    "generate_md_traj(edges, X, 1, 100)\n"
   ]
  },
  {
   "cell_type": "code",
   "execution_count": 10,
   "metadata": {
    "collapsed": false
   },
   "outputs": [
    {
     "name": "stdout",
     "output_type": "stream",
     "text": [
      "232 0.232 0.00828571428571\n"
     ]
    }
   ],
   "source": [
    "# generate frame orders (penalized repeat)\n",
    "import random\n",
    "\n",
    "def random_frame(neighbors, visited, choices):\n",
    "    prob = []\n",
    "    choice = []\n",
    "    for (frame, dist) in neighbors:\n",
    "        if frame in choices:\n",
    "            choices.remove(frame)\n",
    "        prob.append(dist)\n",
    "        choice.append(frame)\n",
    "        \n",
    "    prob = 1/np.array(prob)\n",
    "    prob = prob/sum(prob)\n",
    "    return np.random.choice(choice, p = prob)\n",
    "\n",
    "def generate_md_traj(graph_dict, X, num_traj, length = -1, random_seed=False):\n",
    "    seed = np.linspace(0, len(graph_dict)-1, num_traj)\n",
    "    visited = {}\n",
    "    choices = set(range(len(X)))\n",
    "    if length == -1:\n",
    "            length = 1000\n",
    "    for k in range(0,num_traj):\n",
    "        if random_seed:\n",
    "            start = random.sample(choices, 1)[0]\n",
    "            choices.remove(start)\n",
    "        else:\n",
    "            start = int(seed[k])\n",
    "            \n",
    "        traj = [start]\n",
    "        \n",
    "        if start not in visited:\n",
    "            visited[start] = 1\n",
    "                \n",
    "        for i in range(0, length-1):\n",
    "            neighbor = graph_dict[traj[i]]\n",
    "            next_frame = random_frame(neighbor, visited, choices)\n",
    "            traj.append(next_frame)\n",
    "            if next_frame not in visited:\n",
    "                visited[next_frame] = 1\n",
    "            else:\n",
    "                visited[next_frame] += 1\n",
    "            if next_frame in choices:\n",
    "                choices.remove(next_frame)\n",
    "        #print traj\n",
    "        #print len(np.unique(traj))\n",
    "        traj = np.array(range(1000))\n",
    "        our_traj = np.reshape(X[traj,:], (len(traj), len(X[0])/3, 3))\n",
    "        md_traj = md.Trajectory(our_traj, md.load(fs_peptide.data_dir + '/fs-peptide.pdb').topology)\n",
    "        md_traj.save_xtc('./trajectories/' + str(k+1)+'.xtc')\n",
    "        \n",
    "    num_visited_frame = len(X) - len(choices)\n",
    "    print num_visited_frame, num_visited_frame/float(num_traj*length), num_visited_frame/float(len(X))\n",
    "\n",
    "import warnings\n",
    "warnings.filterwarnings('ignore')\n",
    "delete_all_traj()\n",
    "generate_md_traj(edges, X, 1, 1000, random_seed=True)\n",
    "# 100, 100 ~0.88 (sometimes)\n",
    "# 250, 100 ~0.95\n",
    "# 2800, 10 ~0.97\n",
    "# slightly better sampling distribution when random"
   ]
  },
  {
   "cell_type": "code",
   "execution_count": null,
   "metadata": {
    "collapsed": true
   },
   "outputs": [],
   "source": [
    "# Generate frame orders\n",
    "def random_frame(neighbors, choices):\n",
    "    prob = []\n",
    "    choice = []\n",
    "    for (frame, dist) in neighbors:\n",
    "        if frame in choices:\n",
    "            choices.remove(frame)\n",
    "        prob.append(dist)\n",
    "        choice.append(frame)\n",
    "    return np.random.choice(choice, p = prob)\n",
    "\n",
    "def generate_md_traj(graph_dict, X, folder_name, num_traj, length, random=False):\n",
    "    choices = set()\n",
    "    for k in range(0,num_traj):\n",
    "        if len(choices) == 0:\n",
    "            choices = set(range(len(X)))\n",
    "        start = random.sample(choices, 1)[0]\n",
    "        choices.remove(start)\n",
    "        traj = [start]\n",
    "        \n",
    "        for i in range(0, length-1):\n",
    "            neighbor = graph_dict[traj[i]]\n",
    "            traj.append(random_frame(neighbor, choices))\n",
    "\n",
    "        our_traj = np.reshape(X[traj,:], (len(traj), len(X[0])/3, 3))\n",
    "        md_traj = md.Trajectory(our_traj, md.load(fs_peptide.data_dir + '/fs-peptide.pdb').topology)\n",
    "        filename = which_dataset + '_sim_' + str(cluster_degree) + '_' + str(frame_degree) + '_' + str(k+1) + '.xtc'\n",
    "        md_traj.save_xtc(folder_name + filename)\n",
    "\n",
    "fs_peptide = FsPeptide()\n",
    "traj_folder = '/scratch/users/mincheol/' + which_dataset + '/trajectories/temp/'\n",
    "generate_md_traj(edges, X, traj_folder, num_traj, traj_length, random=sample_rand)"
   ]
  }
 ],
 "metadata": {
  "anaconda-cloud": {},
  "kernelspec": {
   "display_name": "Python 2",
   "language": "python",
   "name": "python2"
  },
  "language_info": {
   "codemirror_mode": {
    "name": "ipython",
    "version": 2
   },
   "file_extension": ".py",
   "mimetype": "text/x-python",
   "name": "python",
   "nbconvert_exporter": "python",
   "pygments_lexer": "ipython2",
   "version": "2.7.13"
  }
 },
 "nbformat": 4,
 "nbformat_minor": 2
}
