{
 "cells": [
  {
   "cell_type": "markdown",
   "metadata": {},
   "source": [
    "# Reduced Dimension MFPT Analysis"
   ]
  },
  {
   "cell_type": "raw",
   "metadata": {},
   "source": [
    "This notebook contains code for performing MFPT analysis in the reduced dimension, using both KernelPCA and ISOMAP. MFPT plots and correlation values are computed.\n",
    "\n",
    "*** Enter the appropriate base path for files in the cell below."
   ]
  },
  {
   "cell_type": "code",
   "execution_count": 1,
   "metadata": {
    "collapsed": false
   },
   "outputs": [
    {
     "name": "stderr",
     "output_type": "stream",
     "text": [
      "C:\\Users\\minch_000\\Anaconda3\\lib\\site-packages\\sklearn\\cross_validation.py:44: DeprecationWarning: This module was deprecated in version 0.18 in favor of the model_selection module into which all the refactored classes and functions are moved. Also note that the interface of the new CV iterators are different from that of this module. This module will be removed in 0.20.\n",
      "  \"This module will be removed in 0.20.\", DeprecationWarning)\n",
      "C:\\Users\\minch_000\\Anaconda3\\lib\\site-packages\\sklearn\\grid_search.py:43: DeprecationWarning: This module was deprecated in version 0.18 in favor of the model_selection module into which all the refactored classes and functions are moved. This module will be removed in 0.20.\n",
      "  DeprecationWarning)\n",
      "C:\\Users\\minch_000\\Anaconda3\\lib\\site-packages\\statsmodels\\compat\\pandas.py:56: FutureWarning: The pandas.core.datetools module is deprecated and will be removed in a future version. Please use the pandas.tseries module instead.\n",
      "  from pandas.core import datetools\n"
     ]
    }
   ],
   "source": [
    "import tempfile\n",
    "import os\n",
    "import numpy as np\n",
    "from msmbuilder.example_datasets import FsPeptide\n",
    "from msmbuilder.dataset import dataset\n",
    "from msmbuilder.featurizer import DihedralFeaturizer\n",
    "from sklearn.decomposition import PCA\n",
    "import mdtraj as md\n",
    "import msmbuilder.utils as msmUtils\n",
    "from msmbuilder.tpt import mfpts\n",
    "import matplotlib.pyplot as plt\n",
    "from scipy import stats\n",
    "import scipy"
   ]
  },
  {
   "cell_type": "code",
   "execution_count": 2,
   "metadata": {
    "collapsed": true
   },
   "outputs": [],
   "source": [
    "%matplotlib inline"
   ]
  },
  {
   "cell_type": "code",
   "execution_count": 3,
   "metadata": {
    "collapsed": false
   },
   "outputs": [],
   "source": [
    "# Base path for all files\n",
    "#base = 'C:\\Users\\MinCheol\\Documents\\TJ_data'\n",
    "base = 'C:\\\\Users\\\\minch_000\\\\Documents\\\\TJ_data'"
   ]
  },
  {
   "cell_type": "markdown",
   "metadata": {},
   "source": [
    "## FsPeptide Analysis"
   ]
  },
  {
   "cell_type": "markdown",
   "metadata": {},
   "source": [
    "### ISOMAP"
   ]
  },
  {
   "cell_type": "markdown",
   "metadata": {},
   "source": [
    "#### MFPT vs Distance in ISOMAP Space"
   ]
  },
  {
   "cell_type": "code",
   "execution_count": 21,
   "metadata": {
    "collapsed": false
   },
   "outputs": [],
   "source": [
    "# import the msm, raw XYZ coordinates, and the cluster assignments\n",
    "fs_msm = msmUtils.load(base + '\\\\fspeptide\\sim_datasets\\msm.pkl')\n",
    "X_rd = np.loadtxt(base + r'\\fspeptide\\reduced_dimension\\X_isomap_45_45_14000.csv', delimiter=',')\n",
    "sample_cluster_assignments = np.loadtxt(base + r'\\fspeptide\\sim_datasets\\sample_cluster_assignment_14000.csv', delimiter=',')"
   ]
  },
  {
   "cell_type": "code",
   "execution_count": 22,
   "metadata": {
    "collapsed": false
   },
   "outputs": [],
   "source": [
    "# Collect MFPT\n",
    "#fs_mfpt_matrix = (mfpts(fs_msm) + mfpts(fs_msm).transpose())\n",
    "fs_mfpt_matrix = mfpts(fs_msm)"
   ]
  },
  {
   "cell_type": "code",
   "execution_count": 34,
   "metadata": {
    "collapsed": false
   },
   "outputs": [],
   "source": [
    "# Parameters for MFPT plots\n",
    "num_frames = X_rd.shape[0]\n",
    "num_points = 500"
   ]
  },
  {
   "cell_type": "code",
   "execution_count": 35,
   "metadata": {
    "collapsed": false
   },
   "outputs": [],
   "source": [
    "distances = []\n",
    "mfpt_times = []\n",
    "for p in range(num_points):\n",
    "    frame_pair = np.random.randint(low=0, high=num_frames-1, size=2) # frame number in sim_data\n",
    "    msm_frame_pair = (fs_msm.mapping_[sample_cluster_assignments[frame_pair[0]]], fs_msm.mapping_[sample_cluster_assignments[frame_pair[1]]])\n",
    "    rd_distance = np.linalg.norm(X_rd[frame_pair[0],:] - X_rd[frame_pair[1], :], 2)\n",
    "    if msm_frame_pair[0] != msm_frame_pair[1]:\n",
    "        distances.append(rd_distance)\n",
    "        mfpt_times.append(np.mean([fs_mfpt_matrix[msm_frame_pair[0]][msm_frame_pair[1]],fs_mfpt_matrix[msm_frame_pair[1]][msm_frame_pair[0]]]))"
   ]
  },
  {
   "cell_type": "code",
   "execution_count": 36,
   "metadata": {
    "collapsed": false
   },
   "outputs": [
    {
     "data": {
      "text/plain": [
       "<matplotlib.text.Text at 0x25741e31a90>"
      ]
     },
     "execution_count": 36,
     "metadata": {},
     "output_type": "execute_result"
    },
    {
     "data": {
      "image/png": "[encoded data removed]",
      "text/plain": [
       "<matplotlib.figure.Figure at 0x25741e0e1d0>"
      ]
     },
     "metadata": {},
     "output_type": "display_data"
    }
   ],
   "source": [
    "x = np.array(distances)\n",
    "y = np.log(np.array(mfpt_times))\n",
    "plt.scatter(x, y)\n",
    "plt.xlabel('Distance in ISOMAP space')\n",
    "plt.ylabel('MFPT')"
   ]
  },
  {
   "cell_type": "code",
   "execution_count": 37,
   "metadata": {
    "collapsed": false
   },
   "outputs": [
    {
     "name": "stdout",
     "output_type": "stream",
     "text": [
      "0.658931649172\n"
     ]
    }
   ],
   "source": [
    "slope, intercept, r_value, p_value, std_err = stats.linregress(np.array(distances),np.log(np.array(mfpt_times)))\n",
    "print(r_value)"
   ]
  },
  {
   "cell_type": "markdown",
   "metadata": {},
   "source": [
    "### Kernel PCA"
   ]
  },
  {
   "cell_type": "markdown",
   "metadata": {},
   "source": [
    "#### MFPT vs Distance in Kernel PCA Space"
   ]
  },
  {
   "cell_type": "code",
   "execution_count": 38,
   "metadata": {
    "collapsed": false
   },
   "outputs": [],
   "source": [
    "# import the msm, raw XYZ coordinates, and the cluster assignments\n",
    "fs_msm = msmUtils.load(base + '\\\\fspeptide\\sim_datasets\\msm.pkl')\n",
    "X_rd = np.loadtxt(base + r'\\fspeptide\\reduced_dimension\\X_kernelPCA_45_45_14000.csv', delimiter=',')\n",
    "sample_cluster_assignments = np.loadtxt(base + r'\\fspeptide\\sim_datasets\\sample_cluster_assignment_14000.csv', delimiter=',')"
   ]
  },
  {
   "cell_type": "code",
   "execution_count": 48,
   "metadata": {
    "collapsed": false
   },
   "outputs": [],
   "source": [
    "# Parameters for MFPT plots\n",
    "num_frames = X_rd.shape[0]\n",
    "num_points = 500"
   ]
  },
  {
   "cell_type": "code",
   "execution_count": 49,
   "metadata": {
    "collapsed": false
   },
   "outputs": [],
   "source": [
    "distances = []\n",
    "mfpt_times = []\n",
    "for p in range(num_points):\n",
    "    frame_pair = np.random.randint(low=0, high=num_frames-1, size=2) # frame number in sim_data\n",
    "    msm_frame_pair = (fs_msm.mapping_[sample_cluster_assignments[frame_pair[0]]], fs_msm.mapping_[sample_cluster_assignments[frame_pair[1]]])\n",
    "    rd_distance = np.linalg.norm(X_rd[frame_pair[0],:] - X_rd[frame_pair[1], :], 2)\n",
    "    if msm_frame_pair[0] != msm_frame_pair[1]:\n",
    "        distances.append(rd_distance)\n",
    "        mfpt_times.append(np.mean([fs_mfpt_matrix[msm_frame_pair[0]][msm_frame_pair[1]],fs_mfpt_matrix[msm_frame_pair[1]][msm_frame_pair[0]]]))"
   ]
  },
  {
   "cell_type": "code",
   "execution_count": 57,
   "metadata": {
    "collapsed": false
   },
   "outputs": [
    {
     "data": {
      "text/plain": [
       "<matplotlib.text.Text at 0x257419fb240>"
      ]
     },
     "execution_count": 57,
     "metadata": {},
     "output_type": "execute_result"
    },
    {
     "data": {
      "image/png": "[encoded data removed]",
      "text/plain": [
       "<matplotlib.figure.Figure at 0x257419f86a0>"
      ]
     },
     "metadata": {},
     "output_type": "display_data"
    }
   ],
   "source": [
    "x = np.array(distances)\n",
    "y = np.log(np.array(mfpt_times))\n",
    "plt.scatter(x, y)\n",
    "plt.xlabel('Distance in kernel PCA space')\n",
    "plt.ylabel('MFPT')"
   ]
  },
  {
   "cell_type": "code",
   "execution_count": 51,
   "metadata": {
    "collapsed": false
   },
   "outputs": [
    {
     "name": "stdout",
     "output_type": "stream",
     "text": [
      "0.42932660543\n"
     ]
    }
   ],
   "source": [
    "slope, intercept, r_value, p_value, std_err = stats.linregress(np.array(distances),np.log(np.array(mfpt_times)))\n",
    "print(r_value)"
   ]
  },
  {
   "cell_type": "markdown",
   "metadata": {},
   "source": [
    "## Calmodulin Analysis"
   ]
  },
  {
   "cell_type": "markdown",
   "metadata": {},
   "source": [
    "### ISOMAP"
   ]
  },
  {
   "cell_type": "markdown",
   "metadata": {},
   "source": [
    "#### MFPT vs Distance in ISOMAP Space"
   ]
  },
  {
   "cell_type": "code",
   "execution_count": 174,
   "metadata": {
    "collapsed": false
   },
   "outputs": [],
   "source": [
    "# import the msm, raw XYZ coordinates, and the cluster assignments\n",
    "cal_msm = msmUtils.load(base + '\\\\apo_calmodulin\\sim_datasets\\msm.pkl')\n",
    "X_rd = np.loadtxt(base + r'\\apo_calmodulin\\reduced_dimension\\X_isomap_100_150_25000.csv', delimiter=',')\n",
    "sample_cluster_assignments = np.loadtxt(base + r'\\apo_calmodulin\\sim_datasets\\sample_cluster_assignment_25000.csv', delimiter=',')"
   ]
  },
  {
   "cell_type": "code",
   "execution_count": 175,
   "metadata": {
    "collapsed": false
   },
   "outputs": [],
   "source": [
    "# Collect MFPT\n",
    "#fs_mfpt_matrix = (mfpts(fs_msm) + mfpts(fs_msm).transpose())\n",
    "cal_mfpt_matrix = mfpts(cal_msm) + mfpts(cal_msm).transpose()"
   ]
  },
  {
   "cell_type": "code",
   "execution_count": 176,
   "metadata": {
    "collapsed": false
   },
   "outputs": [],
   "source": [
    "# Parameters for MFPT plots\n",
    "num_frames = X_rd.shape[0]\n",
    "num_points = 5000"
   ]
  },
  {
   "cell_type": "code",
   "execution_count": 187,
   "metadata": {
    "collapsed": false
   },
   "outputs": [],
   "source": [
    "distances = []\n",
    "mfpt_times = []\n",
    "for p in range(num_points):\n",
    "    frame_pair = np.random.randint(low=0, high=num_frames-1, size=2) # frame number in sim_data\n",
    "    msm_frame_pair = (cal_msm.mapping_[sample_cluster_assignments[frame_pair[0]]], cal_msm.mapping_[sample_cluster_assignments[frame_pair[1]]])\n",
    "    rd_distance = np.linalg.norm(X_rd[frame_pair[0],:] - X_rd[frame_pair[1], :], 2)\n",
    "    if msm_frame_pair[0] != msm_frame_pair[1] and cal_mfpt_matrix[msm_frame_pair[0]][msm_frame_pair[1]] > 0 and cal_mfpt_matrix[msm_frame_pair[0]][msm_frame_pair[1]] < 3000:\n",
    "        distances.append(rd_distance)\n",
    "        mfpt_times.append(cal_mfpt_matrix[msm_frame_pair[0]][msm_frame_pair[1]])"
   ]
  },
  {
   "cell_type": "code",
   "execution_count": 188,
   "metadata": {
    "collapsed": false
   },
   "outputs": [
    {
     "data": {
      "text/plain": [
       "<matplotlib.text.Text at 0x2574d14b780>"
      ]
     },
     "execution_count": 188,
     "metadata": {},
     "output_type": "execute_result"
    },
    {
     "data": {
      "image/png": "[encoded data removed]",
      "text/plain": [
       "<matplotlib.figure.Figure at 0x2574d176f28>"
      ]
     },
     "metadata": {},
     "output_type": "display_data"
    }
   ],
   "source": [
    "x = np.array(distances)\n",
    "y = np.log(np.array(mfpt_times))\n",
    "plt.scatter(x, y)\n",
    "plt.xlabel('Distance in ISOMAP space')\n",
    "plt.ylabel('MFPT')"
   ]
  },
  {
   "cell_type": "code",
   "execution_count": 194,
   "metadata": {
    "collapsed": false
   },
   "outputs": [
    {
     "name": "stdout",
     "output_type": "stream",
     "text": [
      "207250.106313\n",
      "0.459724365687\n"
     ]
    }
   ],
   "source": [
    "idx = np.invert(np.isnan(x) | np.isinf(x))*range(len(x))\n",
    "slope, intercept, r_value, p_value, std_err = stats.linregress(x[idx],y[idx])\n",
    "print(r_value)"
   ]
  },
  {
   "cell_type": "code",
   "execution_count": 198,
   "metadata": {
    "collapsed": false
   },
   "outputs": [
    {
     "data": {
      "image/png": "[encoded data removed]",
      "text/plain": [
       "<matplotlib.figure.Figure at 0x2574d2e15c0>"
      ]
     },
     "metadata": {},
     "output_type": "display_data"
    }
   ],
   "source": [
    "heatmap, _, _ = np.histogram2d(x[idx], y[idx], bins=15)\n",
    "plt.clf()\n",
    "plt.imshow((heatmap), origin='lower')\n",
    "plt.show()"
   ]
  },
  {
   "cell_type": "markdown",
   "metadata": {},
   "source": [
    "### Kernel PCA"
   ]
  },
  {
   "cell_type": "markdown",
   "metadata": {},
   "source": [
    "#### MFPT vs Distance in Kernel PCA Space"
   ]
  },
  {
   "cell_type": "code",
   "execution_count": 38,
   "metadata": {
    "collapsed": false
   },
   "outputs": [],
   "source": [
    "# import the msm, raw XYZ coordinates, and the cluster assignments\n",
    "fs_msm = msmUtils.load(base + '\\\\fspeptide\\sim_datasets\\msm.pkl')\n",
    "X_rd = np.loadtxt(base + r'\\fspeptide\\reduced_dimension\\X_kernelPCA_45_45_14000.csv', delimiter=',')\n",
    "sample_cluster_assignments = np.loadtxt(base + r'\\fspeptide\\sim_datasets\\sample_cluster_assignment_14000.csv', delimiter=',')"
   ]
  },
  {
   "cell_type": "code",
   "execution_count": 48,
   "metadata": {
    "collapsed": false
   },
   "outputs": [],
   "source": [
    "# Parameters for MFPT plots\n",
    "num_frames = X_rd.shape[0]\n",
    "num_points = 500"
   ]
  },
  {
   "cell_type": "code",
   "execution_count": 49,
   "metadata": {
    "collapsed": false
   },
   "outputs": [],
   "source": [
    "distances = []\n",
    "mfpt_times = []\n",
    "for p in range(num_points):\n",
    "    frame_pair = np.random.randint(low=0, high=num_frames-1, size=2) # frame number in sim_data\n",
    "    msm_frame_pair = (fs_msm.mapping_[sample_cluster_assignments[frame_pair[0]]], fs_msm.mapping_[sample_cluster_assignments[frame_pair[1]]])\n",
    "    rd_distance = np.linalg.norm(X_rd[frame_pair[0],:] - X_rd[frame_pair[1], :], 2)\n",
    "    if msm_frame_pair[0] != msm_frame_pair[1]:\n",
    "        distances.append(rd_distance)\n",
    "        mfpt_times.append(np.mean([fs_mfpt_matrix[msm_frame_pair[0]][msm_frame_pair[1]],fs_mfpt_matrix[msm_frame_pair[1]][msm_frame_pair[0]]]))"
   ]
  },
  {
   "cell_type": "code",
   "execution_count": 57,
   "metadata": {
    "collapsed": false
   },
   "outputs": [
    {
     "data": {
      "text/plain": [
       "<matplotlib.text.Text at 0x257419fb240>"
      ]
     },
     "execution_count": 57,
     "metadata": {},
     "output_type": "execute_result"
    },
    {
     "data": {
      "image/png": "[encoded data removed]",
      "text/plain": [
       "<matplotlib.figure.Figure at 0x257419f86a0>"
      ]
     },
     "metadata": {},
     "output_type": "display_data"
    }
   ],
   "source": [
    "x = np.array(distances)\n",
    "y = np.log(np.array(mfpt_times))\n",
    "plt.scatter(x, y)\n",
    "plt.xlabel('Distance in kernel PCA space')\n",
    "plt.ylabel('MFPT')"
   ]
  },
  {
   "cell_type": "code",
   "execution_count": 51,
   "metadata": {
    "collapsed": false
   },
   "outputs": [
    {
     "name": "stdout",
     "output_type": "stream",
     "text": [
      "0.42932660543\n"
     ]
    }
   ],
   "source": [
    "slope, intercept, r_value, p_value, std_err = stats.linregress(np.array(distances),np.log(np.array(mfpt_times)))\n",
    "print(r_value)"
   ]
  }
 ],
 "metadata": {
  "kernelspec": {
   "display_name": "Python 3",
   "language": "python",
   "name": "python3"
  },
  "language_info": {
   "codemirror_mode": {
    "name": "ipython",
    "version": 3
   },
   "file_extension": ".py",
   "mimetype": "text/x-python",
   "name": "python",
   "nbconvert_exporter": "python",
   "pygments_lexer": "ipython3",
   "version": "3.6.0"
  }
 },
 "nbformat": 4,
 "nbformat_minor": 0
}
