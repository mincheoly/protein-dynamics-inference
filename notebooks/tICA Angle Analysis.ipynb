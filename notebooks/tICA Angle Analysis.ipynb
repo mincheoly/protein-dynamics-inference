{
 "cells": [
  {
   "cell_type": "code",
   "execution_count": 2,
   "metadata": {
    "collapsed": true
   },
   "outputs": [],
   "source": [
    "import numpy as np\n",
    "import os.path"
   ]
  },
  {
   "cell_type": "code",
   "execution_count": 3,
   "metadata": {
    "collapsed": false
   },
   "outputs": [
    {
     "name": "stdout",
     "output_type": "stream",
     "text": [
      "(97L, 21L)\n"
     ]
    }
   ],
   "source": [
    "i = 1000\n",
    "j = 10\n",
    "lv = np.load('.//Eigen_Data//lv_'+str(i)+'_'+str(j)+'.dat')\n",
    "print lv.shape"
   ]
  },
  {
   "cell_type": "code",
   "execution_count": 9,
   "metadata": {
    "collapsed": false,
    "scrolled": true
   },
   "outputs": [
    {
     "name": "stdout",
     "output_type": "stream",
     "text": [
      "0.0624350737812 (30, 1000)\n",
      "0.891235987536 (100, 100)\n",
      "0.873019683186 (100, 1000)\n",
      "0.0435327295396 (300, 100)\n",
      "0.982407424557 (300, 1000)\n",
      "0.976458033356 (1000, 10)\n",
      "0.960996045959 (1000, 100)\n",
      "0.950868565179 (1000, 1000)\n",
      "0.961420508081 (10000, 10)\n",
      "0.968620691006 (10000, 100)\n",
      "0.909153146748 (10000, 1000)\n"
     ]
    }
   ],
   "source": [
    "num_traj = np.array([30, 100, 300, 1e3, 1e4]).astype(int)\n",
    "num_length = np.array([10, 1e2, 1e3]).astype(int)\n",
    "\n",
    "lv_orig = np.load('.//Eigen_Data//lv_fs_original_stride_10.dat')\n",
    "\n",
    "for i in num_traj:\n",
    "    for j in num_length:\n",
    "        filename = './/Eigen_Data//lv_'+str(i)+'_'+str(j)+'.dat'\n",
    "        if os.path.isfile(filename):\n",
    "            lv = np.load('.//Eigen_Data//lv_'+str(i)+'_'+str(j)+'.dat')\n",
    "            denom = np.linalg.norm(lv_orig[:,0])*np.linalg.norm(lv[:,0])\n",
    "            dot = np.dot(lv_orig[:,0],lv[:,0])/denom\n",
    "            print dot, (i, j)"
   ]
  },
  {
   "cell_type": "code",
   "execution_count": null,
   "metadata": {
    "collapsed": true
   },
   "outputs": [],
   "source": []
  }
 ],
 "metadata": {
  "anaconda-cloud": {},
  "kernelspec": {
   "display_name": "Python [conda root]",
   "language": "python",
   "name": "conda-root-py"
  },
  "language_info": {
   "codemirror_mode": {
    "name": "ipython",
    "version": 2
   },
   "file_extension": ".py",
   "mimetype": "text/x-python",
   "name": "python",
   "nbconvert_exporter": "python",
   "pygments_lexer": "ipython2",
   "version": "2.7.11"
  }
 },
 "nbformat": 4,
 "nbformat_minor": 2
}
