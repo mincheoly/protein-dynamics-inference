{
 "cells": [
  {
   "cell_type": "code",
   "execution_count": 184,
   "metadata": {
    "collapsed": true
   },
   "outputs": [],
   "source": [
    "import numpy as np\n",
    "import matplotlib.pyplot as plt\n",
    "from scipy import stats\n",
    "from sklearn import manifold, datasets\n",
    "from sklearn.decomposition import PCA, FastICA\n",
    "from sklearn.metrics.pairwise import euclidean_distances\n",
    "import mdtraj as md"
   ]
  },
  {
   "cell_type": "code",
   "execution_count": 3,
   "metadata": {
    "collapsed": true
   },
   "outputs": [],
   "source": [
    "%matplotlib inline"
   ]
  },
  {
   "cell_type": "markdown",
   "metadata": {},
   "source": [
    "# Calmodulin"
   ]
  },
  {
   "cell_type": "markdown",
   "metadata": {},
   "source": [
    "### Import Data"
   ]
  },
  {
   "cell_type": "code",
   "execution_count": 138,
   "metadata": {
    "collapsed": true
   },
   "outputs": [],
   "source": [
    "base = 'C:\\\\Users\\\\minch_000\\\\Documents\\\\TJ_data'"
   ]
  },
  {
   "cell_type": "code",
   "execution_count": 171,
   "metadata": {
    "collapsed": false
   },
   "outputs": [],
   "source": [
    "X_apo = np.loadtxt(base + '\\\\apo_calmodulin\\sim_datasets\\\\raw_angle_5000.csv', delimiter=',')\n",
    "X_holo = np.loadtxt(base + r'\\holo_calmodulin\\sim_datasets\\raw_angle.csv', delimiter=',')"
   ]
  },
  {
   "cell_type": "code",
   "execution_count": 172,
   "metadata": {
    "collapsed": true
   },
   "outputs": [],
   "source": [
    "# Change ratio\n",
    "num_apo = 4000\n",
    "num_holo = 50\n",
    "X_apo = X_apo[0:num_apo, :]\n",
    "X_holo = X_holo[0:num_holo, :]"
   ]
  },
  {
   "cell_type": "code",
   "execution_count": 173,
   "metadata": {
    "collapsed": false
   },
   "outputs": [],
   "source": [
    "# 0 means holo, 1 means apo\n",
    "X_apo = np.concatenate([np.ones((X_apo.shape[0], 1)), X_apo], axis=1)\n",
    "X_holo = np.concatenate([np.zeros((X_holo.shape[0], 1)), X_holo], axis=1)\n",
    "X = np.concatenate([X_apo, X_holo], axis=0)"
   ]
  },
  {
   "cell_type": "code",
   "execution_count": 174,
   "metadata": {
    "collapsed": false
   },
   "outputs": [],
   "source": [
    "# Shuffle them\n",
    "np.random.shuffle(X)\n",
    "apo_indices = np.ndarray.flatten(np.argwhere(X[:, 0] == 1))\n",
    "holo_indices = np.ndarray.flatten(np.argwhere(X[:, 0] == 0))"
   ]
  },
  {
   "cell_type": "markdown",
   "metadata": {},
   "source": [
    "### Apply Spectral Embedding"
   ]
  },
  {
   "cell_type": "raw",
   "metadata": {},
   "source": [
    "Notes:\n",
    "\n",
    "num_sample 4000, n_neighbors 1200.\n",
    "4000 apo, 100 holo\n"
   ]
  },
  {
   "cell_type": "code",
   "execution_count": 176,
   "metadata": {
    "collapsed": false
   },
   "outputs": [],
   "source": [
    "# Nearest neighbors method\n",
    "n_neighbors = 1200\n",
    "n_components = 2\n",
    "se = manifold.SpectralEmbedding(n_neighbors=n_neighbors, n_components=n_components)\n",
    "se_pca = PCA(n_components=2)\n",
    "X_se = se.fit_transform(X[:, 1:])\n",
    "X_se_pca = se_pca.fit_transform(X_se)"
   ]
  },
  {
   "cell_type": "code",
   "execution_count": 181,
   "metadata": {
    "collapsed": false
   },
   "outputs": [
    {
     "name": "stderr",
     "output_type": "stream",
     "text": [
      "C:\\Users\\minch_000\\Anaconda3\\lib\\site-packages\\ipykernel\\__main__.py:5: MatplotlibDeprecationWarning: pyplot.hold is deprecated.\n",
      "    Future behavior will be consistent with the long-time default:\n",
      "    plot commands add elements without first clearing the\n",
      "    Axes and/or Figure.\n",
      "C:\\Users\\minch_000\\Anaconda3\\lib\\site-packages\\matplotlib\\__init__.py:917: UserWarning: axes.hold is deprecated. Please remove it from your matplotlibrc and/or style files.\n",
      "  warnings.warn(self.msg_depr_set % key)\n",
      "C:\\Users\\minch_000\\Anaconda3\\lib\\site-packages\\matplotlib\\rcsetup.py:152: UserWarning: axes.hold is deprecated, will be removed in 3.0\n",
      "  warnings.warn(\"axes.hold is deprecated, will be removed in 3.0\")\n"
     ]
    },
    {
     "data": {
      "text/plain": [
       "<matplotlib.collections.PathCollection at 0x1e060750978>"
      ]
     },
     "execution_count": 181,
     "metadata": {},
     "output_type": "execute_result"
    },
    {
     "data": {
      "image/png": "[encoded data removed]",
      "text/plain": [
       "<matplotlib.figure.Figure at 0x1e06402c518>"
      ]
     },
     "metadata": {},
     "output_type": "display_data"
    }
   ],
   "source": [
    "X_apo_se = X_se[apo_indices, :]\n",
    "X_holo_se = X_se[holo_indices, :]\n",
    "#plot_heatmap(X_apo_se)\n",
    "plt.scatter(X_apo_se[:,0], X_apo_se[:,1], c='b')\n",
    "plt.hold(True)\n",
    "plt.scatter(X_holo_se[:,0], X_holo_se[:,1], c='r')"
   ]
  },
  {
   "cell_type": "markdown",
   "metadata": {},
   "source": [
    "### Raw principal component analysis"
   ]
  },
  {
   "cell_type": "code",
   "execution_count": 179,
   "metadata": {
    "collapsed": false
   },
   "outputs": [],
   "source": [
    "pca = PCA(n_components=n_components)\n",
    "X_pc = pca.fit_transform(X[:, 1:])"
   ]
  },
  {
   "cell_type": "code",
   "execution_count": 180,
   "metadata": {
    "collapsed": false
   },
   "outputs": [
    {
     "name": "stderr",
     "output_type": "stream",
     "text": [
      "C:\\Users\\minch_000\\Anaconda3\\lib\\site-packages\\ipykernel\\__main__.py:5: MatplotlibDeprecationWarning: pyplot.hold is deprecated.\n",
      "    Future behavior will be consistent with the long-time default:\n",
      "    plot commands add elements without first clearing the\n",
      "    Axes and/or Figure.\n",
      "C:\\Users\\minch_000\\Anaconda3\\lib\\site-packages\\matplotlib\\__init__.py:917: UserWarning: axes.hold is deprecated. Please remove it from your matplotlibrc and/or style files.\n",
      "  warnings.warn(self.msg_depr_set % key)\n",
      "C:\\Users\\minch_000\\Anaconda3\\lib\\site-packages\\matplotlib\\rcsetup.py:152: UserWarning: axes.hold is deprecated, will be removed in 3.0\n",
      "  warnings.warn(\"axes.hold is deprecated, will be removed in 3.0\")\n"
     ]
    },
    {
     "data": {
      "text/plain": [
       "<matplotlib.collections.PathCollection at 0x1e06dc154a8>"
      ]
     },
     "execution_count": 180,
     "metadata": {},
     "output_type": "execute_result"
    },
    {
     "data": {
      "image/png": "[encoded data removed]",
      "text/plain": [
       "<matplotlib.figure.Figure at 0x1e06114ecf8>"
      ]
     },
     "metadata": {},
     "output_type": "display_data"
    }
   ],
   "source": [
    "X_apo_pc = X_pc[apo_indices, :]\n",
    "X_holo_pc = X_pc[holo_indices, :]\n",
    "#plot_heatmap(X_apo_pc)\n",
    "plt.scatter(X_apo_pc[:,0], X_apo_pc[:,1], c='b')\n",
    "plt.hold(True)\n",
    "plt.scatter(X_holo_pc[:,0], X_holo_se[:,1], c='r')"
   ]
  },
  {
   "cell_type": "code",
   "execution_count": 165,
   "metadata": {
    "collapsed": true
   },
   "outputs": [],
   "source": [
    "def plot_heatmap(X_se):\n",
    "    x = X_se[:,0]\n",
    "    y = X_se[:,1]\n",
    "    xedges, yedges = np.linspace(min(x), max(x), 10), np.linspace(min(y), max(y), 10)\n",
    "    hist, xedges, yedges = np.histogram2d(X_se[:,0],X_se[:,1],(xedges, yedges))\n",
    "    hist = np.log(hist)\n",
    "    xidx = np.clip(np.digitize(X_se[:,0], xedges), 0, hist.shape[0]-1)\n",
    "    yidx = np.clip(np.digitize(X_se[:,1], yedges), 0, hist.shape[1]-1)\n",
    "    c = hist[xidx, yidx]\n",
    "    plt.scatter(X_se[:,0], X_se[:,1], c=c, edgecolor='none')\n",
    "    cb = plt.colorbar()\n",
    "    cb.set_label('log10(N)')"
   ]
  },
  {
   "cell_type": "code",
   "execution_count": 183,
   "metadata": {
    "collapsed": true
   },
   "outputs": [],
   "source": [
    "test = np.loadtxt(base + r'\\apo_calmodulin\\sim_datasets\\raw_XYZ_10000.csv', delimiter=',')"
   ]
  },
  {
   "cell_type": "code",
   "execution_count": 185,
   "metadata": {
    "collapsed": true
   },
   "outputs": [],
   "source": [
    "test = test[:300, :]"
   ]
  },
  {
   "cell_type": "code",
   "execution_count": 187,
   "metadata": {
    "collapsed": false
   },
   "outputs": [
    {
     "data": {
      "text/plain": [
       "1043.0"
      ]
     },
     "execution_count": 187,
     "metadata": {},
     "output_type": "execute_result"
    }
   ],
   "source": [
    "test.shape[1]/3"
   ]
  },
  {
   "cell_type": "code",
   "execution_count": 188,
   "metadata": {
    "collapsed": false
   },
   "outputs": [],
   "source": [
    "traj = np.reshape(test, (test.shape[0], int(test.shape[1]/3), 3))"
   ]
  },
  {
   "cell_type": "code",
   "execution_count": 189,
   "metadata": {
    "collapsed": false
   },
   "outputs": [
    {
     "data": {
      "text/plain": [
       "<mdtraj.Trajectory with 300 frames, 1043 atoms, 67 residues, without unitcells at 0x1e063de5cc0>"
      ]
     },
     "execution_count": 189,
     "metadata": {},
     "output_type": "execute_result"
    }
   ],
   "source": [
    "# Save first SE Dimension video\n",
    "md.Trajectory(traj, md.load(base + r'\\apo_calmodulin\\1cfd_protein.pdb').topology)"
   ]
  },
  {
   "cell_type": "code",
   "execution_count": 190,
   "metadata": {
    "collapsed": true
   },
   "outputs": [],
   "source": [
    "a = np.array([2.0, 3.0])"
   ]
  },
  {
   "cell_type": "code",
   "execution_count": 193,
   "metadata": {
    "collapsed": false
   },
   "outputs": [
    {
     "data": {
      "text/plain": [
       "array([2, 3])"
      ]
     },
     "execution_count": 193,
     "metadata": {},
     "output_type": "execute_result"
    }
   ],
   "source": [
    "a.astype(int)"
   ]
  }
 ],
 "metadata": {
  "kernelspec": {
   "display_name": "Python 3",
   "language": "python",
   "name": "python3"
  },
  "language_info": {
   "codemirror_mode": {
    "name": "ipython",
    "version": 3
   },
   "file_extension": ".py",
   "mimetype": "text/x-python",
   "name": "python",
   "nbconvert_exporter": "python",
   "pygments_lexer": "ipython3",
   "version": "3.6.0"
  }
 },
 "nbformat": 4,
 "nbformat_minor": 2
}
