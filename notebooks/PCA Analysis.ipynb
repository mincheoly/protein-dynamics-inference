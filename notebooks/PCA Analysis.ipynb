{
 "cells": [
  {
   "cell_type": "code",
   "execution_count": 1,
   "metadata": {
    "collapsed": true
   },
   "outputs": [],
   "source": [
    "import tempfile\n",
    "import os\n",
    "import numpy as np\n",
    "from msmbuilder.example_datasets import FsPeptide\n",
    "from msmbuilder.dataset import dataset\n",
    "from msmbuilder.featurizer import DihedralFeaturizer\n",
    "from sklearn.decomposition import PCA\n",
    "import mdtraj as md"
   ]
  },
  {
   "cell_type": "markdown",
   "metadata": {},
   "source": [
    "## Original MSM, with time information"
   ]
  },
  {
   "cell_type": "code",
   "execution_count": 4,
   "metadata": {
    "collapsed": false
   },
   "outputs": [
    {
     "name": "stderr",
     "output_type": "stream",
     "text": [
      "C:\\Users\\minch_000\\Anaconda2\\lib\\site-packages\\mdtraj\\formats\\pdb\\pdbfile.py:196: UserWarning: Unlikely unit cell vectors detected in PDB file likely resulting from a dummy CRYST1 record. Discarding unit cell vectors.\n",
      "  warnings.warn('Unlikely unit cell vectors detected in PDB file likely '\n"
     ]
    },
    {
     "name": "stdout",
     "output_type": "stream",
     "text": [
      "28 trajectories\n",
      "with length set([500.0]) ns\n"
     ]
    }
   ],
   "source": [
    "# get data\n",
    "fs_peptide = FsPeptide()\n",
    "fs_peptide.cache()\n",
    "os.chdir(tempfile.mkdtemp())\n",
    "xyz = dataset(fs_peptide.data_dir + \"/*.xtc\",\n",
    "              topology=fs_peptide.data_dir + '/fs-peptide.pdb',\n",
    "              stride=10)\n",
    "print(\"{} trajectories\".format(len(xyz)))\n",
    "# msmbuilder does not keep track of units! You must keep track of your\n",
    "# data's timestep\n",
    "to_ns = 0.5\n",
    "print(\"with length {} ns\".format(set(len(x)*to_ns for x in xyz)))"
   ]
  },
  {
   "cell_type": "code",
   "execution_count": 3,
   "metadata": {
    "collapsed": false
   },
   "outputs": [
    {
     "name": "stdout",
     "output_type": "stream",
     "text": [
      "(1000L, 264L, 3L)\n",
      "(1000L, 84L)\n"
     ]
    }
   ],
   "source": [
    "#featurization\n",
    "\n",
    "featurizer = DihedralFeaturizer(types=['phi', 'psi'])\n",
    "diheds = xyz.fit_transform_with(featurizer, 'diheds/', fmt='dir-npy')\n",
    "\n",
    "print(xyz[0].xyz.shape)\n",
    "print(diheds[0].shape)\n",
    "\n",
    "#tICA\n",
    "from msmbuilder.decomposition import tICA\n",
    "tica_model = tICA(lag_time=2, n_components=2)\n",
    "# fit and transform can be done in seperate steps:\n",
    "tica_model = diheds.fit_with(tica_model)\n",
    "tica_trajs = diheds.transform_with(tica_model, 'ticas/', fmt='dir-npy')\n",
    "txx = np.concatenate(tica_trajs)"
   ]
  },
  {
   "cell_type": "markdown",
   "metadata": {
    "collapsed": false
   },
   "source": [
    "## PCA on Isomap Analysis"
   ]
  },
  {
   "cell_type": "code",
   "execution_count": 15,
   "metadata": {
    "collapsed": false
   },
   "outputs": [],
   "source": [
    "# Perform PCA in the Isomap dimension\n",
    "data_file = 'C:\\Users\\minch_000\\Documents\\TJ_data\\\\fspeptide\\\\X_isomap_40_10_1.0.dat'\n",
    "X_iso = np.load(data_file)\n",
    "idx = [i for i in range(X_iso.shape[0])]\n",
    "shuffle_idx = np.random.shuffle(idx)\n",
    "X_iso = X_iso[idx, :]\n",
    "pca = PCA(n_components=2)\n",
    "X_ip = pca.fit_transform(X_iso)"
   ]
  },
  {
   "cell_type": "code",
   "execution_count": 13,
   "metadata": {
    "collapsed": false
   },
   "outputs": [
    {
     "ename": "TypeError",
     "evalue": "__init__() takes at least 3 arguments (2 given)",
     "output_type": "error",
     "traceback": [
      "\u001b[1;31m---------------------------------------------------------------------------\u001b[0m",
      "\u001b[1;31mTypeError\u001b[0m                                 Traceback (most recent call last)",
      "\u001b[1;32m<ipython-input-13-9a648346e711>\u001b[0m in \u001b[0;36m<module>\u001b[1;34m()\u001b[0m\n\u001b[0;32m      7\u001b[0m \u001b[0mtraj\u001b[0m \u001b[1;33m=\u001b[0m \u001b[0midx_sort\u001b[0m\u001b[1;33m[\u001b[0m\u001b[1;33m:\u001b[0m\u001b[1;33m:\u001b[0m\u001b[0msample_rate\u001b[0m\u001b[1;33m]\u001b[0m\u001b[1;33m\u001b[0m\u001b[0m\n\u001b[0;32m      8\u001b[0m \u001b[0mPCA_traj\u001b[0m \u001b[1;33m=\u001b[0m \u001b[0mnp\u001b[0m\u001b[1;33m.\u001b[0m\u001b[0mreshape\u001b[0m\u001b[1;33m(\u001b[0m\u001b[0mX\u001b[0m\u001b[1;33m[\u001b[0m\u001b[0mtraj\u001b[0m\u001b[1;33m,\u001b[0m\u001b[1;33m:\u001b[0m\u001b[1;33m]\u001b[0m\u001b[1;33m,\u001b[0m \u001b[1;33m(\u001b[0m\u001b[0mlen\u001b[0m\u001b[1;33m(\u001b[0m\u001b[0mtraj\u001b[0m\u001b[1;33m)\u001b[0m\u001b[1;33m,\u001b[0m \u001b[0mX\u001b[0m\u001b[1;33m.\u001b[0m\u001b[0mshape\u001b[0m\u001b[1;33m[\u001b[0m\u001b[1;36m1\u001b[0m\u001b[1;33m]\u001b[0m\u001b[1;33m/\u001b[0m\u001b[1;36m3\u001b[0m\u001b[1;33m,\u001b[0m \u001b[1;36m3\u001b[0m\u001b[1;33m)\u001b[0m\u001b[1;33m)\u001b[0m\u001b[1;33m\u001b[0m\u001b[0m\n\u001b[1;32m----> 9\u001b[1;33m \u001b[0mmd_traj\u001b[0m \u001b[1;33m=\u001b[0m \u001b[0mmd\u001b[0m\u001b[1;33m.\u001b[0m\u001b[0mTrajectory\u001b[0m\u001b[1;33m(\u001b[0m\u001b[0mPCA_traj\u001b[0m\u001b[1;33m)\u001b[0m\u001b[1;33m\u001b[0m\u001b[0m\n\u001b[0m\u001b[0;32m     10\u001b[0m \u001b[0mmd_traj\u001b[0m\u001b[1;33m.\u001b[0m\u001b[0msave_xtc\u001b[0m\u001b[1;33m(\u001b[0m\u001b[1;34m'C:\\Users\\minch_000\\Documents\\GitHub\\Protein_Dynamics_TJ\\MSM_Builder_Test\\PCA_traj.xtc'\u001b[0m\u001b[1;33m)\u001b[0m\u001b[1;33m\u001b[0m\u001b[0m\n",
      "\u001b[1;31mTypeError\u001b[0m: __init__() takes at least 3 arguments (2 given)"
     ]
    }
   ],
   "source": [
    "# Sample along the 1st principal components\n",
    "X = np.load('C:\\Users\\minch_000\\Documents\\TJ_data\\\\fspeptide\\\\raw_XYZ.dat')\n",
    "X = X[idx,:]\n",
    "first_PCA = X_ip[:, 0]\n",
    "idx_sort = first_PCA.argsort()[-len(first_PCA):][::-1]\n",
    "sample_rate = int(X_ip.shape[0]/3000) # sample only 3000 frames equally spaced apart\n",
    "traj = idx_sort[::sample_rate]\n",
    "PCA_traj = np.reshape(X[traj,:], (len(traj), X.shape[1]/3, 3))\n",
    "md_traj = md.Trajectory(PCA_traj, md.load(fs_peptide.data_dir + '/fs-peptide.pdb').topology)\n",
    "md_traj.save_xtc('C:\\Users\\minch_000\\Documents\\GitHub\\Protein_Dynamics_TJ\\MSM_Builder_Test\\PCA_traj.xtc')"
   ]
  },
  {
   "cell_type": "code",
   "execution_count": 29,
   "metadata": {
    "collapsed": false
   },
   "outputs": [],
   "source": [
    "# Sample along the 1st principal components for calmodulin\n",
    "X = np.load('C:\\Users\\minch_000\\Documents\\TJ_data\\\\fspeptide\\\\raw_XYZ_250_.dat')\n",
    "X_ip = np.load('C:\\Users\\minch_000\\Documents\\TJ_data\\\\fspeptide\\\\X_pc_isomap_40_10_250_4.dat')\n",
    "first_PCA = X_ip[:, 0]\n",
    "idx_sort = first_PCA.argsort()[-len(first_PCA):][::-1]\n",
    "sample_rate = int(X_ip.shape[0]/3000) # sample only 3000 frames equally spaced apart\n",
    "traj = idx_sort[::sample_rate]\n",
    "PCA_traj = md.load('C:\\Users\\minch_000\\Documents\\TJ_data\\\\fspeptide\\\\trj9508.lh5')\n",
    "PCA_traj.xyz = np.reshape(X[traj,:], (len(traj), X.shape[1]/3, 3))\n",
    "PCA_traj.time = np.array([i for i in range(PCA_traj.xyz.shape[0])])\n",
    "PCA_traj.save_pdb('C:\\Users\\minch_000\\Documents\\GitHub\\Protein_Dynamics_TJ\\MSM_Builder_Test\\PCA_traj_250.pdb')"
   ]
  },
  {
   "cell_type": "code",
   "execution_count": 63,
   "metadata": {
    "collapsed": false
   },
   "outputs": [],
   "source": [
    "X = np.load('C:\\Users\\minch_000\\Documents\\TJ_data\\\\fspeptide\\\\X_isomap_40_10_100.dat')\n",
    "indices = []\n",
    "for i in range(X.shape[0]):\n",
    "    if np.isnan(np.sum(X[i,:])) or np.isinf(np.sum(X[i,:])) :\n",
    "        print i\n",
    "        indices.append(i)"
   ]
  },
  {
   "cell_type": "code",
   "execution_count": 70,
   "metadata": {
    "collapsed": true
   },
   "outputs": [],
   "source": [
    "X_raw = np.load('C:\\Users\\minch_000\\Documents\\TJ_data\\\\fspeptide\\\\raw_XYZ_600.dat')"
   ]
  },
  {
   "cell_type": "code",
   "execution_count": 74,
   "metadata": {
    "collapsed": false
   },
   "outputs": [],
   "source": [
    "X_iso = np.load('C:\\Users\\minch_000\\Documents\\TJ_data\\\\fspeptide\\\\X_isomap_40_10_600.dat')"
   ]
  },
  {
   "cell_type": "code",
   "execution_count": 73,
   "metadata": {
    "collapsed": false
   },
   "outputs": [
    {
     "data": {
      "text/plain": [
       "0.72294343"
      ]
     },
     "execution_count": 73,
     "metadata": {},
     "output_type": "execute_result"
    }
   ],
   "source": [
    "np.min(np.min(X_raw))"
   ]
  },
  {
   "cell_type": "code",
   "execution_count": 75,
   "metadata": {
    "collapsed": false
   },
   "outputs": [
    {
     "data": {
      "text/plain": [
       "-1.593663072372757e+308"
      ]
     },
     "execution_count": 75,
     "metadata": {},
     "output_type": "execute_result"
    }
   ],
   "source": [
    "np.min(np.min(X_iso))"
   ]
  },
  {
   "cell_type": "code",
   "execution_count": 37,
   "metadata": {
    "collapsed": false
   },
   "outputs": [
    {
     "data": {
      "text/plain": [
       "nan"
      ]
     },
     "execution_count": 37,
     "metadata": {},
     "output_type": "execute_result"
    }
   ],
   "source": [
    "# Done\n",
    "# isomap 200\n",
    "# isomap 100\n",
    "\n",
    "# no problem\n",
    "# isomap 300\n",
    "# isomap 450"
   ]
  }
 ],
 "metadata": {
  "anaconda-cloud": {},
  "kernelspec": {
   "display_name": "Python 2",
   "language": "python",
   "name": "python2"
  },
  "language_info": {
   "codemirror_mode": {
    "name": "ipython",
    "version": 2
   },
   "file_extension": ".py",
   "mimetype": "text/x-python",
   "name": "python",
   "nbconvert_exporter": "python",
   "pygments_lexer": "ipython2",
   "version": "2.7.12"
  }
 },
 "nbformat": 4,
 "nbformat_minor": 2
}
